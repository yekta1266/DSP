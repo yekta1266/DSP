{
  "nbformat": 4,
  "nbformat_minor": 0,
  "metadata": {
    "colab": {
      "private_outputs": true,
      "provenance": []
    },
    "kernelspec": {
      "name": "python3",
      "display_name": "Python 3"
    },
    "language_info": {
      "name": "python"
    }
  },
  "cells": [
    {
      "cell_type": "code",
      "source": [
        "!git clone https://github.com/hardware-fab/JARVIS.git"
      ],
      "metadata": {
        "id": "GVVvjdDeFdXR"
      },
      "execution_count": null,
      "outputs": []
    },
    {
      "cell_type": "code",
      "source": [
        "from matplotlib import pyplot as plt\n",
        "from .attack import Snr\n",
        "from .io_dat.traces_bin import TracesBin"
      ],
      "metadata": {
        "id": "zF3gKlDd_1x9"
      },
      "execution_count": null,
      "outputs": []
    },
    {
      "cell_type": "code",
      "source": [
        "trace_file = \"</path/to/traces/file.dat>\"\n",
        "key = TracesBin(trace_file).getKey()"
      ],
      "metadata": {
        "id": "lQ7atVJPE7Yq"
      },
      "execution_count": null,
      "outputs": []
    },
    {
      "cell_type": "code",
      "source": [
        "snr = Snr(key)\n",
        "snr_static = snr.fromFile(trace_file)"
      ],
      "metadata": {
        "id": "dEF26jSFE7WS"
      },
      "execution_count": null,
      "outputs": []
    },
    {
      "cell_type": "code",
      "source": [
        "fsize = 25\n",
        "fig = plt.figure(figsize=(12, 6))\n",
        "ax1 = fig.add_subplot(111)\n",
        "ax1.set_xlabel('Samples', fontsize=fsize)\n",
        "ax1.set_ylabel('SNR', fontsize=fsize)\n",
        "\n",
        "plt.rcParams.update({'font.size': fsize*0.8})\n",
        "plt.plot(snr_static)"
      ],
      "metadata": {
        "id": "HvuUR89nE7Tz"
      },
      "execution_count": null,
      "outputs": []
    },
    {
      "cell_type": "code",
      "source": [
        "import os\n",
        "import numpy as np\n",
        "import pytorch_lightning as pl\n",
        "from matplotlib import pyplot as plt\n",
        "from sca_utils.metrics import dumpMetrics\n",
        "from attack.CNN.create_dataset import createDataset, plotTargetStatistics, printDatasetInfo\n",
        "from attack.CNN.train import train\n",
        "from attack.CNN.attack import guessingMetrics, getModule"
      ],
      "metadata": {
        "id": "WdK1vbDLE7RD"
      },
      "execution_count": null,
      "outputs": []
    },
    {
      "cell_type": "code",
      "source": [
        "np.random.seed(2025)\n",
        "pl.seed_everything(2025, workers=True)"
      ],
      "metadata": {
        "id": "NA7UiYyGE7O7"
      },
      "execution_count": null,
      "outputs": []
    },
    {
      "cell_type": "code",
      "source": [
        "trace_folder =  \"</path/to/traces/folder/>\"\n",
        "dataset_folder = \"</path/to/out/dataset/folder/>\""
      ],
      "metadata": {
        "id": "zmnRuTAtE7MU"
      },
      "execution_count": null,
      "outputs": []
    },
    {
      "cell_type": "code",
      "source": [
        "all_trace_files = [trace_folder + f for f in os.listdir(trace_folder)]"
      ],
      "metadata": {
        "id": "K4Lel86wE7Jb"
      },
      "execution_count": null,
      "outputs": []
    },
    {
      "cell_type": "code",
      "source": [
        "createDataset(all_trace_files, dataset_folder)\n",
        "plotTargetStatistics(dataset_folder)\n",
        "printDatasetInfo(dataset_folder)"
      ],
      "metadata": {
        "id": "zhFjnz2qE7Gz"
      },
      "execution_count": null,
      "outputs": []
    },
    {
      "cell_type": "code",
      "source": [
        "config_folder = \"attack/CNN/configs/cnn_exp_v1\" #\"/path/to/experiment/config/folder/\"\n",
        "gpu = 0 # 0 if you want to use the first GPU, 1 if you want to use the second GPU, and so on"
      ],
      "metadata": {
        "id": "Rb3z2092E7Eb"
      },
      "execution_count": null,
      "outputs": []
    },
    {
      "cell_type": "code",
      "source": [
        "train(config_folder, gpu)"
      ],
      "metadata": {
        "id": "JIc5dbffE7B0"
      },
      "execution_count": null,
      "outputs": []
    },
    {
      "cell_type": "code",
      "source": [
        "attack_folder = \"</path/to/attack/traces/folder/>\"\n",
        "result_folder = \"</path/to/save/results/folder/>\"\n",
        "SID = \"<Neptun ID>\"\n",
        "\n",
        "trace_files = [attack_folder + f for f in os.listdir(attack_folder)]"
      ],
      "metadata": {
        "id": "Wal1gzCkFUP3"
      },
      "execution_count": null,
      "outputs": []
    },
    {
      "cell_type": "code",
      "source": [
        "module = getModule(SID)"
      ],
      "metadata": {
        "id": "AuPAK7whFUN3"
      },
      "execution_count": null,
      "outputs": []
    },
    {
      "cell_type": "code",
      "source": [
        "ge, gd, ranks = guessingMetrics(trace_files, module)\n",
        "print(f\"Guessing distance: {gd}, Guessing entropy: {ge}\")\n",
        "\n",
        "# Save results\n",
        "dumpMetrics(result_folder, gd, ranks)"
      ],
      "metadata": {
        "id": "_yCM4VVEFULo"
      },
      "execution_count": null,
      "outputs": []
    },
    {
      "cell_type": "code",
      "source": [
        "fig = plt.figure(figsize=(8, 5))\n",
        "plt.plot(np.mean(ranks, axis=0))\n",
        "plt.grid(True)\n",
        "plt.ylim(0, 180)"
      ],
      "metadata": {
        "id": "jPTrsYDwFUJI"
      },
      "execution_count": null,
      "outputs": []
    }
  ]
}